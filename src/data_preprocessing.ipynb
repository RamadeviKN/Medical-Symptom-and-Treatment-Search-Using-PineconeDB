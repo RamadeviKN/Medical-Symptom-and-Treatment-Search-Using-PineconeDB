{
 "cells": [
  {
   "cell_type": "markdown",
   "metadata": {},
   "source": [
    "Importing Libraries"
   ]
  },
  {
   "cell_type": "code",
   "execution_count": 706,
   "metadata": {},
   "outputs": [],
   "source": [
    "import pandas as pd"
   ]
  },
  {
   "cell_type": "code",
   "execution_count": 707,
   "metadata": {},
   "outputs": [],
   "source": [
    "# Step 1: Load the datasets\n",
    "disease_symptoms = pd.read_csv(\"../data/disease_symptoms.csv\")\n",
    "symptom_description = pd.read_csv(\"../data/symptom_description.csv\")\n",
    "symptom_precaution = pd.read_csv(\"../data/symptom_precaution.csv\")\n",
    "symptom_severity = pd.read_csv(\"../data/symptom_severity.csv\")"
   ]
  },
  {
   "cell_type": "code",
   "execution_count": 708,
   "metadata": {},
   "outputs": [],
   "source": [
    "# Step 2: Normalize column names\n",
    "disease_symptoms.columns = disease_symptoms.columns.str.strip().str.lower()\n",
    "symptom_description.columns = symptom_description.columns.str.strip().str.lower()\n",
    "symptom_precaution.columns = symptom_precaution.columns.str.strip().str.lower()\n",
    "symptom_severity.columns = symptom_severity.columns.str.strip().str.lower()"
   ]
  },
  {
   "cell_type": "code",
   "execution_count": 709,
   "metadata": {},
   "outputs": [],
   "source": [
    "# Step 3: Convert values to lowercase for below columns\n",
    "disease_symptoms = disease_symptoms.map(lambda x: x.strip().lower() if isinstance(x, str) else x)\n",
    "symptom_description['disease'] = symptom_description['disease'].str.strip().str.lower()\n",
    "symptom_precaution = symptom_precaution.map(lambda x: x.strip().lower() if isinstance(x, str) else x)\n",
    "symptom_severity.columns = symptom_severity.columns.str.strip().str.lower()"
   ]
  },
  {
   "cell_type": "code",
   "execution_count": 710,
   "metadata": {},
   "outputs": [
    {
     "data": {
      "text/plain": [
       "disease          0\n",
       "symptom_1        0\n",
       "symptom_2        0\n",
       "symptom_3        0\n",
       "symptom_4      348\n",
       "symptom_5     1206\n",
       "symptom_6     1986\n",
       "symptom_7     2652\n",
       "symptom_8     2976\n",
       "symptom_9     3228\n",
       "symptom_10    3408\n",
       "symptom_11    3726\n",
       "symptom_12    4176\n",
       "symptom_13    4416\n",
       "symptom_14    4614\n",
       "symptom_15    4680\n",
       "symptom_16    4728\n",
       "symptom_17    4848\n",
       "dtype: int64"
      ]
     },
     "execution_count": 710,
     "metadata": {},
     "output_type": "execute_result"
    }
   ],
   "source": [
    "disease_symptoms.isnull().sum()"
   ]
  },
  {
   "cell_type": "code",
   "execution_count": 711,
   "metadata": {},
   "outputs": [
    {
     "name": "stdout",
     "output_type": "stream",
     "text": [
      "disease       object\n",
      "symptom_1     object\n",
      "symptom_2     object\n",
      "symptom_3     object\n",
      "symptom_4     object\n",
      "symptom_5     object\n",
      "symptom_6     object\n",
      "symptom_7     object\n",
      "symptom_8     object\n",
      "symptom_9     object\n",
      "symptom_10    object\n",
      "symptom_11    object\n",
      "symptom_12    object\n",
      "symptom_13    object\n",
      "symptom_14    object\n",
      "symptom_15    object\n",
      "symptom_16    object\n",
      "symptom_17    object\n",
      "dtype: object\n"
     ]
    }
   ],
   "source": [
    "# Verify the data types now\n",
    "print(disease_symptoms.dtypes)"
   ]
  },
  {
   "cell_type": "code",
   "execution_count": 712,
   "metadata": {},
   "outputs": [
    {
     "data": {
      "text/plain": [
       "['symptom_1',\n",
       " 'symptom_2',\n",
       " 'symptom_3',\n",
       " 'symptom_4',\n",
       " 'symptom_5',\n",
       " 'symptom_6',\n",
       " 'symptom_7',\n",
       " 'symptom_8',\n",
       " 'symptom_9',\n",
       " 'symptom_10',\n",
       " 'symptom_11',\n",
       " 'symptom_12',\n",
       " 'symptom_13',\n",
       " 'symptom_14',\n",
       " 'symptom_15',\n",
       " 'symptom_16',\n",
       " 'symptom_17']"
      ]
     },
     "execution_count": 712,
     "metadata": {},
     "output_type": "execute_result"
    }
   ],
   "source": [
    "symptom_cols = [col for col in disease_symptoms.columns if col.startswith(\"symptom_\")]\n",
    "symptom_cols"
   ]
  },
  {
   "cell_type": "code",
   "execution_count": 713,
   "metadata": {},
   "outputs": [
    {
     "data": {
      "text/plain": [
       "(4920, 18)"
      ]
     },
     "execution_count": 713,
     "metadata": {},
     "output_type": "execute_result"
    }
   ],
   "source": [
    "disease_symptoms.shape"
   ]
  },
  {
   "cell_type": "code",
   "execution_count": 714,
   "metadata": {},
   "outputs": [
    {
     "data": {
      "text/plain": [
       "np.int64(4616)"
      ]
     },
     "execution_count": 714,
     "metadata": {},
     "output_type": "execute_result"
    }
   ],
   "source": [
    "disease_symptoms.duplicated().sum()"
   ]
  },
  {
   "cell_type": "code",
   "execution_count": 715,
   "metadata": {},
   "outputs": [],
   "source": [
    "disease_symptoms = disease_symptoms.drop_duplicates()"
   ]
  },
  {
   "cell_type": "code",
   "execution_count": 716,
   "metadata": {},
   "outputs": [
    {
     "data": {
      "text/plain": [
       "(304, 18)"
      ]
     },
     "execution_count": 716,
     "metadata": {},
     "output_type": "execute_result"
    }
   ],
   "source": [
    "disease_symptoms.shape"
   ]
  },
  {
   "cell_type": "code",
   "execution_count": 717,
   "metadata": {},
   "outputs": [
    {
     "name": "stdout",
     "output_type": "stream",
     "text": [
      "                                    disease  \\\n",
      "0   (vertigo) paroymsal  positional vertigo   \n",
      "1                                      acne   \n",
      "2                                      aids   \n",
      "3                       alcoholic hepatitis   \n",
      "4                                   allergy   \n",
      "5                                 arthritis   \n",
      "6                          bronchial asthma   \n",
      "7                      cervical spondylosis   \n",
      "8                               chicken pox   \n",
      "9                       chronic cholestasis   \n",
      "10                              common cold   \n",
      "11                                   dengue   \n",
      "12                                 diabetes   \n",
      "13             dimorphic hemmorhoids(piles)   \n",
      "14                            drug reaction   \n",
      "15                         fungal infection   \n",
      "16                          gastroenteritis   \n",
      "17                                     gerd   \n",
      "18                             heart attack   \n",
      "19                              hepatitis a   \n",
      "20                              hepatitis b   \n",
      "21                              hepatitis c   \n",
      "22                              hepatitis d   \n",
      "23                              hepatitis e   \n",
      "24                             hypertension   \n",
      "25                          hyperthyroidism   \n",
      "26                             hypoglycemia   \n",
      "27                           hypothyroidism   \n",
      "28                                 impetigo   \n",
      "29                                 jaundice   \n",
      "30                                  malaria   \n",
      "31                                 migraine   \n",
      "32                          osteoarthristis   \n",
      "33             paralysis (brain hemorrhage)   \n",
      "34                      peptic ulcer diseae   \n",
      "35                                pneumonia   \n",
      "36                                psoriasis   \n",
      "37                             tuberculosis   \n",
      "38                                  typhoid   \n",
      "39                  urinary tract infection   \n",
      "40                           varicose veins   \n",
      "\n",
      "                                              symptom  \n",
      "0   [vomiting, headache, nausea, spinning_movement...  \n",
      "1   [skin_rash, pus_filled_pimples, blackheads, sc...  \n",
      "2   [muscle_wasting, patches_in_throat, high_fever...  \n",
      "3   [vomiting, yellowish_skin, abdominal_pain, swe...  \n",
      "4   [continuous_sneezing, shivering, chills, water...  \n",
      "5   [muscle_weakness, stiff_neck, swelling_joints,...  \n",
      "6   [fatigue, cough, high_fever, breathlessness, f...  \n",
      "7   [back_pain, weakness_in_limbs, neck_pain, dizz...  \n",
      "8   [itching, skin_rash, fatigue, lethargy, high_f...  \n",
      "9   [itching, vomiting, yellowish_skin, nausea, lo...  \n",
      "10  [continuous_sneezing, chills, fatigue, cough, ...  \n",
      "11  [skin_rash, chills, joint_pain, vomiting, fati...  \n",
      "12  [fatigue, weight_loss, restlessness, lethargy,...  \n",
      "13  [constipation, pain_during_bowel_movements, pa...  \n",
      "14  [itching, skin_rash, stomach_pain, burning_mic...  \n",
      "15  [itching, skin_rash, nodal_skin_eruptions, dis...  \n",
      "16    [vomiting, sunken_eyes, dehydration, diarrhoea]  \n",
      "17  [stomach_pain, acidity, ulcers_on_tongue, vomi...  \n",
      "18   [vomiting, breathlessness, sweating, chest_pain]  \n",
      "19  [joint_pain, vomiting, yellowish_skin, dark_ur...  \n",
      "20  [itching, fatigue, lethargy, yellowish_skin, d...  \n",
      "21  [fatigue, yellowish_skin, nausea, loss_of_appe...  \n",
      "22  [joint_pain, vomiting, fatigue, yellowish_skin...  \n",
      "23  [joint_pain, vomiting, fatigue, high_fever, ye...  \n",
      "24  [headache, chest_pain, dizziness, loss_of_bala...  \n",
      "25  [fatigue, mood_swings, weight_loss, restlessne...  \n",
      "26  [vomiting, fatigue, anxiety, sweating, headach...  \n",
      "27  [fatigue, weight_gain, cold_hands_and_feets, m...  \n",
      "28  [skin_rash, high_fever, blister, red_sore_arou...  \n",
      "29  [itching, vomiting, fatigue, weight_loss, high...  \n",
      "30  [chills, vomiting, high_fever, sweating, heada...  \n",
      "31  [acidity, indigestion, headache, blurred_and_d...  \n",
      "32  [joint_pain, neck_pain, knee_pain, hip_joint_p...  \n",
      "33  [vomiting, headache, weakness_of_one_body_side...  \n",
      "34  [vomiting, indigestion, loss_of_appetite, abdo...  \n",
      "35  [chills, fatigue, cough, high_fever, breathles...  \n",
      "36  [skin_rash, joint_pain, skin_peeling, silver_l...  \n",
      "37  [chills, vomiting, fatigue, weight_loss, cough...  \n",
      "38  [chills, vomiting, fatigue, high_fever, headac...  \n",
      "39  [burning_micturition, bladder_discomfort, foul...  \n",
      "40  [fatigue, cramps, bruising, obesity, swollen_l...  \n"
     ]
    }
   ],
   "source": [
    "# Melt the DataFrame to gather all symptom columns into one column\n",
    "melted_df = disease_symptoms.melt(id_vars=['disease'], value_vars=symptom_cols, var_name='symptom_column', value_name='symptom')\n",
    "\n",
    "# Drop NaN values to avoid including them in the list\n",
    "melted_df = melted_df.dropna(subset=['symptom'])\n",
    "\n",
    "# Group by disease and collect unique symptoms into a list\n",
    "disease_symptom_list = melted_df.groupby('disease')['symptom'].agg(lambda x: list(x.unique())).reset_index()\n",
    "\n",
    "# Display the result\n",
    "print(disease_symptom_list)\n"
   ]
  },
  {
   "cell_type": "code",
   "execution_count": 718,
   "metadata": {},
   "outputs": [
    {
     "name": "stdout",
     "output_type": "stream",
     "text": [
      "                                     disease                  symptom\n",
      "0    (vertigo) paroymsal  positional vertigo                 vomiting\n",
      "1    (vertigo) paroymsal  positional vertigo                 headache\n",
      "2    (vertigo) paroymsal  positional vertigo                   nausea\n",
      "3    (vertigo) paroymsal  positional vertigo       spinning_movements\n",
      "4    (vertigo) paroymsal  positional vertigo          loss_of_balance\n",
      "..                                       ...                      ...\n",
      "316                           varicose veins                 bruising\n",
      "317                           varicose veins                  obesity\n",
      "318                           varicose veins             swollen_legs\n",
      "319                           varicose veins    swollen_blood_vessels\n",
      "320                           varicose veins  prominent_veins_on_calf\n",
      "\n",
      "[321 rows x 2 columns]\n"
     ]
    }
   ],
   "source": [
    "# Step 1: Explode the symptoms list into individual rows\n",
    "disease_symptom_list = disease_symptom_list.explode('symptom').reset_index(drop=True)\n",
    "\n",
    "# Step 2: Remove duplicates to ensure unique disease-symptom pairs\n",
    "disease_symptom_list = disease_symptom_list.drop_duplicates()\n",
    "\n",
    "# Display the final DataFrame\n",
    "print(disease_symptom_list)\n"
   ]
  },
  {
   "cell_type": "code",
   "execution_count": 719,
   "metadata": {},
   "outputs": [],
   "source": [
    "disease_symptom_list.to_csv(\"../data/unique_disease_symptoms_1.csv\", index=False)\n"
   ]
  },
  {
   "cell_type": "code",
   "execution_count": 720,
   "metadata": {},
   "outputs": [
    {
     "data": {
      "text/html": [
       "<div>\n",
       "<style scoped>\n",
       "    .dataframe tbody tr th:only-of-type {\n",
       "        vertical-align: middle;\n",
       "    }\n",
       "\n",
       "    .dataframe tbody tr th {\n",
       "        vertical-align: top;\n",
       "    }\n",
       "\n",
       "    .dataframe thead th {\n",
       "        text-align: right;\n",
       "    }\n",
       "</style>\n",
       "<table border=\"1\" class=\"dataframe\">\n",
       "  <thead>\n",
       "    <tr style=\"text-align: right;\">\n",
       "      <th></th>\n",
       "      <th>disease</th>\n",
       "      <th>symptom</th>\n",
       "    </tr>\n",
       "  </thead>\n",
       "  <tbody>\n",
       "    <tr>\n",
       "      <th>0</th>\n",
       "      <td>(vertigo) paroymsal  positional vertigo</td>\n",
       "      <td>vomiting</td>\n",
       "    </tr>\n",
       "    <tr>\n",
       "      <th>1</th>\n",
       "      <td>(vertigo) paroymsal  positional vertigo</td>\n",
       "      <td>headache</td>\n",
       "    </tr>\n",
       "    <tr>\n",
       "      <th>2</th>\n",
       "      <td>(vertigo) paroymsal  positional vertigo</td>\n",
       "      <td>nausea</td>\n",
       "    </tr>\n",
       "    <tr>\n",
       "      <th>3</th>\n",
       "      <td>(vertigo) paroymsal  positional vertigo</td>\n",
       "      <td>spinning_movements</td>\n",
       "    </tr>\n",
       "    <tr>\n",
       "      <th>4</th>\n",
       "      <td>(vertigo) paroymsal  positional vertigo</td>\n",
       "      <td>loss_of_balance</td>\n",
       "    </tr>\n",
       "    <tr>\n",
       "      <th>5</th>\n",
       "      <td>(vertigo) paroymsal  positional vertigo</td>\n",
       "      <td>unsteadiness</td>\n",
       "    </tr>\n",
       "    <tr>\n",
       "      <th>6</th>\n",
       "      <td>acne</td>\n",
       "      <td>skin_rash</td>\n",
       "    </tr>\n",
       "    <tr>\n",
       "      <th>7</th>\n",
       "      <td>acne</td>\n",
       "      <td>pus_filled_pimples</td>\n",
       "    </tr>\n",
       "    <tr>\n",
       "      <th>8</th>\n",
       "      <td>acne</td>\n",
       "      <td>blackheads</td>\n",
       "    </tr>\n",
       "    <tr>\n",
       "      <th>9</th>\n",
       "      <td>acne</td>\n",
       "      <td>scurring</td>\n",
       "    </tr>\n",
       "    <tr>\n",
       "      <th>10</th>\n",
       "      <td>aids</td>\n",
       "      <td>muscle_wasting</td>\n",
       "    </tr>\n",
       "    <tr>\n",
       "      <th>11</th>\n",
       "      <td>aids</td>\n",
       "      <td>patches_in_throat</td>\n",
       "    </tr>\n",
       "    <tr>\n",
       "      <th>12</th>\n",
       "      <td>aids</td>\n",
       "      <td>high_fever</td>\n",
       "    </tr>\n",
       "    <tr>\n",
       "      <th>13</th>\n",
       "      <td>aids</td>\n",
       "      <td>extra_marital_contacts</td>\n",
       "    </tr>\n",
       "    <tr>\n",
       "      <th>14</th>\n",
       "      <td>alcoholic hepatitis</td>\n",
       "      <td>vomiting</td>\n",
       "    </tr>\n",
       "  </tbody>\n",
       "</table>\n",
       "</div>"
      ],
      "text/plain": [
       "                                    disease                 symptom\n",
       "0   (vertigo) paroymsal  positional vertigo                vomiting\n",
       "1   (vertigo) paroymsal  positional vertigo                headache\n",
       "2   (vertigo) paroymsal  positional vertigo                  nausea\n",
       "3   (vertigo) paroymsal  positional vertigo      spinning_movements\n",
       "4   (vertigo) paroymsal  positional vertigo         loss_of_balance\n",
       "5   (vertigo) paroymsal  positional vertigo            unsteadiness\n",
       "6                                      acne               skin_rash\n",
       "7                                      acne      pus_filled_pimples\n",
       "8                                      acne              blackheads\n",
       "9                                      acne                scurring\n",
       "10                                     aids          muscle_wasting\n",
       "11                                     aids       patches_in_throat\n",
       "12                                     aids              high_fever\n",
       "13                                     aids  extra_marital_contacts\n",
       "14                      alcoholic hepatitis                vomiting"
      ]
     },
     "execution_count": 720,
     "metadata": {},
     "output_type": "execute_result"
    }
   ],
   "source": [
    "disease_symptom_list.head(15)"
   ]
  },
  {
   "cell_type": "code",
   "execution_count": 721,
   "metadata": {},
   "outputs": [
    {
     "data": {
      "text/plain": [
       "(321, 2)"
      ]
     },
     "execution_count": 721,
     "metadata": {},
     "output_type": "execute_result"
    }
   ],
   "source": [
    "disease_symptom_list.shape"
   ]
  },
  {
   "cell_type": "code",
   "execution_count": 722,
   "metadata": {},
   "outputs": [
    {
     "data": {
      "text/plain": [
       "disease    0\n",
       "symptom    0\n",
       "dtype: int64"
      ]
     },
     "execution_count": 722,
     "metadata": {},
     "output_type": "execute_result"
    }
   ],
   "source": [
    "# Checking null values again for 'disease_symptoms' dataset\n",
    "disease_symptom_list.isnull().sum()"
   ]
  },
  {
   "cell_type": "code",
   "execution_count": 723,
   "metadata": {},
   "outputs": [
    {
     "data": {
      "text/plain": [
       "disease        0\n",
       "description    0\n",
       "dtype: int64"
      ]
     },
     "execution_count": 723,
     "metadata": {},
     "output_type": "execute_result"
    }
   ],
   "source": [
    "symptom_description.isnull().sum()"
   ]
  },
  {
   "cell_type": "code",
   "execution_count": 724,
   "metadata": {},
   "outputs": [
    {
     "data": {
      "text/plain": [
       "disease         0\n",
       "precaution_1    0\n",
       "precaution_2    0\n",
       "precaution_3    1\n",
       "precaution_4    1\n",
       "dtype: int64"
      ]
     },
     "execution_count": 724,
     "metadata": {},
     "output_type": "execute_result"
    }
   ],
   "source": [
    "symptom_precaution.isnull().sum()"
   ]
  },
  {
   "cell_type": "code",
   "execution_count": 725,
   "metadata": {},
   "outputs": [
    {
     "data": {
      "text/plain": [
       "['precaution_1', 'precaution_2', 'precaution_3', 'precaution_4']"
      ]
     },
     "execution_count": 725,
     "metadata": {},
     "output_type": "execute_result"
    }
   ],
   "source": [
    "precaution_cols = [col for col in symptom_precaution.columns if col.startswith(\"precaution_\")]\n",
    "precaution_cols"
   ]
  },
  {
   "cell_type": "code",
   "execution_count": 726,
   "metadata": {},
   "outputs": [
    {
     "name": "stdout",
     "output_type": "stream",
     "text": [
      "                                    disease  \\\n",
      "0   (vertigo) paroymsal  positional vertigo   \n",
      "1                                      acne   \n",
      "2                                      aids   \n",
      "3                       alcoholic hepatitis   \n",
      "4                                   allergy   \n",
      "5                                 arthritis   \n",
      "6                          bronchial asthma   \n",
      "7                      cervical spondylosis   \n",
      "8                               chicken pox   \n",
      "9                       chronic cholestasis   \n",
      "10                              common cold   \n",
      "11                                   dengue   \n",
      "12                                 diabetes   \n",
      "13             dimorphic hemmorhoids(piles)   \n",
      "14                            drug reaction   \n",
      "15                         fungal infection   \n",
      "16                          gastroenteritis   \n",
      "17                                     gerd   \n",
      "18                             heart attack   \n",
      "19                              hepatitis a   \n",
      "20                              hepatitis b   \n",
      "21                              hepatitis c   \n",
      "22                              hepatitis d   \n",
      "23                              hepatitis e   \n",
      "24                             hypertension   \n",
      "25                          hyperthyroidism   \n",
      "26                             hypoglycemia   \n",
      "27                           hypothyroidism   \n",
      "28                                 impetigo   \n",
      "29                                 jaundice   \n",
      "30                                  malaria   \n",
      "31                                 migraine   \n",
      "32                          osteoarthristis   \n",
      "33             paralysis (brain hemorrhage)   \n",
      "34                      peptic ulcer diseae   \n",
      "35                                pneumonia   \n",
      "36                                psoriasis   \n",
      "37                             tuberculosis   \n",
      "38                                  typhoid   \n",
      "39                  urinary tract infection   \n",
      "40                           varicose veins   \n",
      "\n",
      "                                          precautions  \n",
      "0   [lie down, avoid sudden change in body, avoid ...  \n",
      "1   [bath twice, avoid fatty spicy food, drink ple...  \n",
      "2   [avoid open cuts, wear ppe if possible, consul...  \n",
      "3   [stop alcohol consumption, consult doctor, med...  \n",
      "4   [apply calamine, cover area with bandage, use ...  \n",
      "5   [exercise, use hot and cold therapy, try acupu...  \n",
      "6   [switch to loose cloothing, take deep breaths,...  \n",
      "7   [use heating pad or cold pack, exercise, take ...  \n",
      "8   [use neem in bathing, consume neem leaves, tak...  \n",
      "9   [cold baths, anti itch medicine, consult docto...  \n",
      "10  [drink vitamin c rich drinks, take vapour, avo...  \n",
      "11  [drink papaya leaf juice, avoid fatty spicy fo...  \n",
      "12  [have balanced diet, exercise, consult doctor,...  \n",
      "13  [avoid fatty spicy food, consume witch hazel, ...  \n",
      "14  [stop irritation, consult nearest hospital, st...  \n",
      "15  [bath twice, use detol or neem in bathing wate...  \n",
      "16  [stop eating solid food for while, try taking ...  \n",
      "17  [avoid fatty spicy food, avoid lying down afte...  \n",
      "18  [call ambulance, chew or swallow asprin, keep ...  \n",
      "19  [consult nearest hospital, wash hands through,...  \n",
      "20  [consult nearest hospital, vaccination, eat he...  \n",
      "21  [consult nearest hospital, vaccination, eat he...  \n",
      "22  [consult doctor, medication, eat healthy, foll...  \n",
      "23  [stop alcohol consumption, rest, consult docto...  \n",
      "24  [meditation, salt baths, reduce stress, get pr...  \n",
      "25  [eat healthy, massage, use lemon balm, take ra...  \n",
      "26  [lie down on side, check in pulse, drink sugar...  \n",
      "27  [reduce stress, exercise, eat healthy, get pro...  \n",
      "28  [soak affected area in warm water, use antibio...  \n",
      "29  [drink plenty of water, consume milk thistle, ...  \n",
      "30  [consult nearest hospital, avoid oily food, av...  \n",
      "31  [meditation, reduce stress, use poloroid glass...  \n",
      "32  [acetaminophen, consult nearest hospital, foll...  \n",
      "33   [massage, eat healthy, exercise, consult doctor]  \n",
      "34  [avoid fatty spicy food, consume probiotic foo...  \n",
      "35      [consult doctor, medication, rest, follow up]  \n",
      "36  [wash hands with warm soapy water, stop bleedi...  \n",
      "37    [cover mouth, consult doctor, medication, rest]  \n",
      "38  [eat high calorie vegitables, antiboitic thera...  \n",
      "39  [drink plenty of water, increase vitamin c int...  \n",
      "40  [lie down flat and raise the leg high, use oin...  \n"
     ]
    }
   ],
   "source": [
    "# Melt the DataFrame to gather all precaution columns into one column\n",
    "melted_precaution_df = symptom_precaution.melt(id_vars=['disease'], value_vars=precaution_cols, var_name='precaution_column', value_name='precautions')\n",
    "\n",
    "# Drop NaN values to avoid including them in the list\n",
    "melted_precaution_df = melted_precaution_df.dropna(subset=['precautions'])\n",
    "\n",
    "# Group by disease and collect unique precautions into a list\n",
    "disease_precaution_list = melted_precaution_df.groupby('disease')['precautions'].agg(lambda x: list(x.unique())).reset_index()\n",
    "\n",
    "# Display the result\n",
    "print(disease_precaution_list)\n"
   ]
  },
  {
   "cell_type": "code",
   "execution_count": 727,
   "metadata": {},
   "outputs": [
    {
     "data": {
      "text/plain": [
       "(41, 2)"
      ]
     },
     "execution_count": 727,
     "metadata": {},
     "output_type": "execute_result"
    }
   ],
   "source": [
    "disease_precaution_list.shape"
   ]
  },
  {
   "cell_type": "code",
   "execution_count": 728,
   "metadata": {},
   "outputs": [
    {
     "data": {
      "text/plain": [
       "symptom    0\n",
       "weight     0\n",
       "dtype: int64"
      ]
     },
     "execution_count": 728,
     "metadata": {},
     "output_type": "execute_result"
    }
   ],
   "source": [
    "symptom_severity.isnull().sum()"
   ]
  },
  {
   "cell_type": "code",
   "execution_count": 729,
   "metadata": {},
   "outputs": [
    {
     "data": {
      "text/plain": [
       "np.int64(0)"
      ]
     },
     "execution_count": 729,
     "metadata": {},
     "output_type": "execute_result"
    }
   ],
   "source": [
    "symptom_severity.duplicated().sum()"
   ]
  },
  {
   "cell_type": "code",
   "execution_count": 730,
   "metadata": {},
   "outputs": [
    {
     "data": {
      "text/html": [
       "<div>\n",
       "<style scoped>\n",
       "    .dataframe tbody tr th:only-of-type {\n",
       "        vertical-align: middle;\n",
       "    }\n",
       "\n",
       "    .dataframe tbody tr th {\n",
       "        vertical-align: top;\n",
       "    }\n",
       "\n",
       "    .dataframe thead th {\n",
       "        text-align: right;\n",
       "    }\n",
       "</style>\n",
       "<table border=\"1\" class=\"dataframe\">\n",
       "  <thead>\n",
       "    <tr style=\"text-align: right;\">\n",
       "      <th></th>\n",
       "      <th>symptom</th>\n",
       "      <th>weight</th>\n",
       "    </tr>\n",
       "  </thead>\n",
       "  <tbody>\n",
       "    <tr>\n",
       "      <th>0</th>\n",
       "      <td>itching</td>\n",
       "      <td>1</td>\n",
       "    </tr>\n",
       "    <tr>\n",
       "      <th>1</th>\n",
       "      <td>skin_rash</td>\n",
       "      <td>3</td>\n",
       "    </tr>\n",
       "    <tr>\n",
       "      <th>2</th>\n",
       "      <td>nodal_skin_eruptions</td>\n",
       "      <td>4</td>\n",
       "    </tr>\n",
       "    <tr>\n",
       "      <th>3</th>\n",
       "      <td>continuous_sneezing</td>\n",
       "      <td>4</td>\n",
       "    </tr>\n",
       "    <tr>\n",
       "      <th>4</th>\n",
       "      <td>shivering</td>\n",
       "      <td>5</td>\n",
       "    </tr>\n",
       "  </tbody>\n",
       "</table>\n",
       "</div>"
      ],
      "text/plain": [
       "                symptom  weight\n",
       "0               itching       1\n",
       "1             skin_rash       3\n",
       "2  nodal_skin_eruptions       4\n",
       "3   continuous_sneezing       4\n",
       "4             shivering       5"
      ]
     },
     "execution_count": 730,
     "metadata": {},
     "output_type": "execute_result"
    }
   ],
   "source": [
    "symptom_severity.head()"
   ]
  },
  {
   "cell_type": "code",
   "execution_count": 731,
   "metadata": {},
   "outputs": [
    {
     "data": {
      "text/plain": [
       "np.int64(0)"
      ]
     },
     "execution_count": 731,
     "metadata": {},
     "output_type": "execute_result"
    }
   ],
   "source": [
    "# Check if there are duplicates in symptom_description\n",
    "symptom_description.duplicated().sum()"
   ]
  },
  {
   "cell_type": "code",
   "execution_count": 732,
   "metadata": {},
   "outputs": [
    {
     "data": {
      "text/plain": [
       "np.int64(0)"
      ]
     },
     "execution_count": 732,
     "metadata": {},
     "output_type": "execute_result"
    }
   ],
   "source": [
    "# Check if there are duplicates in symptom_precaution\n",
    "symptom_precaution.duplicated().sum()"
   ]
  },
  {
   "cell_type": "code",
   "execution_count": 733,
   "metadata": {},
   "outputs": [],
   "source": [
    "# Step 6: Combine with description and precaution datasets\n",
    "preprocessed_symptoms_df = disease_symptom_list.merge(\n",
    "    symptom_description, on=\"disease\", how=\"left\"\n",
    ")"
   ]
  },
  {
   "cell_type": "code",
   "execution_count": 734,
   "metadata": {},
   "outputs": [
    {
     "name": "stdout",
     "output_type": "stream",
     "text": [
      "                                   disease             symptom  \\\n",
      "0  (vertigo) paroymsal  positional vertigo            vomiting   \n",
      "1  (vertigo) paroymsal  positional vertigo            headache   \n",
      "2  (vertigo) paroymsal  positional vertigo              nausea   \n",
      "3  (vertigo) paroymsal  positional vertigo  spinning_movements   \n",
      "4  (vertigo) paroymsal  positional vertigo     loss_of_balance   \n",
      "\n",
      "                                         description  \n",
      "0  Benign paroxysmal positional vertigo (BPPV) is...  \n",
      "1  Benign paroxysmal positional vertigo (BPPV) is...  \n",
      "2  Benign paroxysmal positional vertigo (BPPV) is...  \n",
      "3  Benign paroxysmal positional vertigo (BPPV) is...  \n",
      "4  Benign paroxysmal positional vertigo (BPPV) is...  \n"
     ]
    }
   ],
   "source": [
    "print(preprocessed_symptoms_df.head())"
   ]
  },
  {
   "cell_type": "code",
   "execution_count": 735,
   "metadata": {},
   "outputs": [],
   "source": [
    "# Step 5: Add symptom weights\n",
    "preprocessed_symptoms_df = preprocessed_symptoms_df.merge(\n",
    "    symptom_severity, on=\"symptom\", how=\"left\"\n",
    ")"
   ]
  },
  {
   "cell_type": "code",
   "execution_count": 736,
   "metadata": {},
   "outputs": [],
   "source": [
    "# Propagate the correct weight for each symptom (in case of NaN)\n",
    "# If weight is NaN, fill it with the corresponding non-NaN value for that symptom\n",
    "#preprocessed_symptoms_df['weight'] = preprocessed_symptoms_df.groupby('symptom')['weight'].transform(lambda x: x.fillna(method='ffill').fillna(method='bfill'))"
   ]
  },
  {
   "cell_type": "code",
   "execution_count": 737,
   "metadata": {},
   "outputs": [
    {
     "data": {
      "text/html": [
       "<div>\n",
       "<style scoped>\n",
       "    .dataframe tbody tr th:only-of-type {\n",
       "        vertical-align: middle;\n",
       "    }\n",
       "\n",
       "    .dataframe tbody tr th {\n",
       "        vertical-align: top;\n",
       "    }\n",
       "\n",
       "    .dataframe thead th {\n",
       "        text-align: right;\n",
       "    }\n",
       "</style>\n",
       "<table border=\"1\" class=\"dataframe\">\n",
       "  <thead>\n",
       "    <tr style=\"text-align: right;\">\n",
       "      <th></th>\n",
       "      <th>disease</th>\n",
       "      <th>symptom</th>\n",
       "      <th>description</th>\n",
       "      <th>weight</th>\n",
       "    </tr>\n",
       "  </thead>\n",
       "  <tbody>\n",
       "    <tr>\n",
       "      <th>0</th>\n",
       "      <td>(vertigo) paroymsal  positional vertigo</td>\n",
       "      <td>vomiting</td>\n",
       "      <td>Benign paroxysmal positional vertigo (BPPV) is...</td>\n",
       "      <td>5.0</td>\n",
       "    </tr>\n",
       "    <tr>\n",
       "      <th>1</th>\n",
       "      <td>(vertigo) paroymsal  positional vertigo</td>\n",
       "      <td>headache</td>\n",
       "      <td>Benign paroxysmal positional vertigo (BPPV) is...</td>\n",
       "      <td>3.0</td>\n",
       "    </tr>\n",
       "    <tr>\n",
       "      <th>2</th>\n",
       "      <td>(vertigo) paroymsal  positional vertigo</td>\n",
       "      <td>nausea</td>\n",
       "      <td>Benign paroxysmal positional vertigo (BPPV) is...</td>\n",
       "      <td>5.0</td>\n",
       "    </tr>\n",
       "    <tr>\n",
       "      <th>3</th>\n",
       "      <td>(vertigo) paroymsal  positional vertigo</td>\n",
       "      <td>spinning_movements</td>\n",
       "      <td>Benign paroxysmal positional vertigo (BPPV) is...</td>\n",
       "      <td>6.0</td>\n",
       "    </tr>\n",
       "    <tr>\n",
       "      <th>4</th>\n",
       "      <td>(vertigo) paroymsal  positional vertigo</td>\n",
       "      <td>loss_of_balance</td>\n",
       "      <td>Benign paroxysmal positional vertigo (BPPV) is...</td>\n",
       "      <td>4.0</td>\n",
       "    </tr>\n",
       "    <tr>\n",
       "      <th>5</th>\n",
       "      <td>(vertigo) paroymsal  positional vertigo</td>\n",
       "      <td>unsteadiness</td>\n",
       "      <td>Benign paroxysmal positional vertigo (BPPV) is...</td>\n",
       "      <td>4.0</td>\n",
       "    </tr>\n",
       "    <tr>\n",
       "      <th>6</th>\n",
       "      <td>acne</td>\n",
       "      <td>skin_rash</td>\n",
       "      <td>Acne vulgaris is the formation of comedones, p...</td>\n",
       "      <td>3.0</td>\n",
       "    </tr>\n",
       "    <tr>\n",
       "      <th>7</th>\n",
       "      <td>acne</td>\n",
       "      <td>pus_filled_pimples</td>\n",
       "      <td>Acne vulgaris is the formation of comedones, p...</td>\n",
       "      <td>2.0</td>\n",
       "    </tr>\n",
       "    <tr>\n",
       "      <th>8</th>\n",
       "      <td>acne</td>\n",
       "      <td>blackheads</td>\n",
       "      <td>Acne vulgaris is the formation of comedones, p...</td>\n",
       "      <td>2.0</td>\n",
       "    </tr>\n",
       "    <tr>\n",
       "      <th>9</th>\n",
       "      <td>acne</td>\n",
       "      <td>scurring</td>\n",
       "      <td>Acne vulgaris is the formation of comedones, p...</td>\n",
       "      <td>2.0</td>\n",
       "    </tr>\n",
       "  </tbody>\n",
       "</table>\n",
       "</div>"
      ],
      "text/plain": [
       "                                   disease             symptom  \\\n",
       "0  (vertigo) paroymsal  positional vertigo            vomiting   \n",
       "1  (vertigo) paroymsal  positional vertigo            headache   \n",
       "2  (vertigo) paroymsal  positional vertigo              nausea   \n",
       "3  (vertigo) paroymsal  positional vertigo  spinning_movements   \n",
       "4  (vertigo) paroymsal  positional vertigo     loss_of_balance   \n",
       "5  (vertigo) paroymsal  positional vertigo        unsteadiness   \n",
       "6                                     acne           skin_rash   \n",
       "7                                     acne  pus_filled_pimples   \n",
       "8                                     acne          blackheads   \n",
       "9                                     acne            scurring   \n",
       "\n",
       "                                         description  weight  \n",
       "0  Benign paroxysmal positional vertigo (BPPV) is...     5.0  \n",
       "1  Benign paroxysmal positional vertigo (BPPV) is...     3.0  \n",
       "2  Benign paroxysmal positional vertigo (BPPV) is...     5.0  \n",
       "3  Benign paroxysmal positional vertigo (BPPV) is...     6.0  \n",
       "4  Benign paroxysmal positional vertigo (BPPV) is...     4.0  \n",
       "5  Benign paroxysmal positional vertigo (BPPV) is...     4.0  \n",
       "6  Acne vulgaris is the formation of comedones, p...     3.0  \n",
       "7  Acne vulgaris is the formation of comedones, p...     2.0  \n",
       "8  Acne vulgaris is the formation of comedones, p...     2.0  \n",
       "9  Acne vulgaris is the formation of comedones, p...     2.0  "
      ]
     },
     "execution_count": 737,
     "metadata": {},
     "output_type": "execute_result"
    }
   ],
   "source": [
    "preprocessed_symptoms_df.head(10)"
   ]
  },
  {
   "cell_type": "code",
   "execution_count": 738,
   "metadata": {},
   "outputs": [
    {
     "name": "stderr",
     "output_type": "stream",
     "text": [
      "C:\\Users\\mkris\\AppData\\Local\\Temp\\ipykernel_49232\\2532542755.py:5: FutureWarning: A value is trying to be set on a copy of a DataFrame or Series through chained assignment using an inplace method.\n",
      "The behavior will change in pandas 3.0. This inplace method will never work because the intermediate object on which we are setting values always behaves as a copy.\n",
      "\n",
      "For example, when doing 'df[col].method(value, inplace=True)', try using 'df.method({col: value}, inplace=True)' or df[col] = df[col].method(value) instead, to perform the operation inplace on the original object.\n",
      "\n",
      "\n",
      "  preprocessed_symptoms_df['weight'].fillna(mean_weight, inplace=True)  # Filling remaining NaNs with the mean weight\n",
      "C:\\Users\\mkris\\AppData\\Local\\Temp\\ipykernel_49232\\2532542755.py:8: FutureWarning: A value is trying to be set on a copy of a DataFrame or Series through chained assignment using an inplace method.\n",
      "The behavior will change in pandas 3.0. This inplace method will never work because the intermediate object on which we are setting values always behaves as a copy.\n",
      "\n",
      "For example, when doing 'df[col].method(value, inplace=True)', try using 'df.method({col: value}, inplace=True)' or df[col] = df[col].method(value) instead, to perform the operation inplace on the original object.\n",
      "\n",
      "\n",
      "  preprocessed_symptoms_df['description'].fillna(\"No Description Available\", inplace=True)  # Filling remaining NaNs with the mean weight\n"
     ]
    }
   ],
   "source": [
    "# Calculate the mean weight\n",
    "mean_weight = round(symptom_severity['weight'].mean(), 2)\n",
    "\n",
    "#Ensure no NaN values remain for 'weight' column (optional, in case no valid fill method was possible)\n",
    "preprocessed_symptoms_df['weight'].fillna(mean_weight, inplace=True)  # Filling remaining NaNs with the mean weight\n",
    "\n",
    "#Ensure no NaN values remain for 'description' column (optional, in case no valid fill method was possible)\n",
    "preprocessed_symptoms_df['description'].fillna(\"No Description Available\", inplace=True)  # Filling remaining NaNs with the mean weight\n"
   ]
  },
  {
   "cell_type": "code",
   "execution_count": 739,
   "metadata": {},
   "outputs": [
    {
     "data": {
      "text/html": [
       "<div>\n",
       "<style scoped>\n",
       "    .dataframe tbody tr th:only-of-type {\n",
       "        vertical-align: middle;\n",
       "    }\n",
       "\n",
       "    .dataframe tbody tr th {\n",
       "        vertical-align: top;\n",
       "    }\n",
       "\n",
       "    .dataframe thead th {\n",
       "        text-align: right;\n",
       "    }\n",
       "</style>\n",
       "<table border=\"1\" class=\"dataframe\">\n",
       "  <thead>\n",
       "    <tr style=\"text-align: right;\">\n",
       "      <th></th>\n",
       "      <th>disease</th>\n",
       "      <th>symptom</th>\n",
       "      <th>description</th>\n",
       "      <th>weight</th>\n",
       "    </tr>\n",
       "  </thead>\n",
       "  <tbody>\n",
       "    <tr>\n",
       "      <th>0</th>\n",
       "      <td>(vertigo) paroymsal  positional vertigo</td>\n",
       "      <td>vomiting</td>\n",
       "      <td>Benign paroxysmal positional vertigo (BPPV) is...</td>\n",
       "      <td>5.0</td>\n",
       "    </tr>\n",
       "    <tr>\n",
       "      <th>1</th>\n",
       "      <td>(vertigo) paroymsal  positional vertigo</td>\n",
       "      <td>headache</td>\n",
       "      <td>Benign paroxysmal positional vertigo (BPPV) is...</td>\n",
       "      <td>3.0</td>\n",
       "    </tr>\n",
       "    <tr>\n",
       "      <th>2</th>\n",
       "      <td>(vertigo) paroymsal  positional vertigo</td>\n",
       "      <td>nausea</td>\n",
       "      <td>Benign paroxysmal positional vertigo (BPPV) is...</td>\n",
       "      <td>5.0</td>\n",
       "    </tr>\n",
       "    <tr>\n",
       "      <th>3</th>\n",
       "      <td>(vertigo) paroymsal  positional vertigo</td>\n",
       "      <td>spinning_movements</td>\n",
       "      <td>Benign paroxysmal positional vertigo (BPPV) is...</td>\n",
       "      <td>6.0</td>\n",
       "    </tr>\n",
       "    <tr>\n",
       "      <th>4</th>\n",
       "      <td>(vertigo) paroymsal  positional vertigo</td>\n",
       "      <td>loss_of_balance</td>\n",
       "      <td>Benign paroxysmal positional vertigo (BPPV) is...</td>\n",
       "      <td>4.0</td>\n",
       "    </tr>\n",
       "    <tr>\n",
       "      <th>5</th>\n",
       "      <td>(vertigo) paroymsal  positional vertigo</td>\n",
       "      <td>unsteadiness</td>\n",
       "      <td>Benign paroxysmal positional vertigo (BPPV) is...</td>\n",
       "      <td>4.0</td>\n",
       "    </tr>\n",
       "    <tr>\n",
       "      <th>6</th>\n",
       "      <td>acne</td>\n",
       "      <td>skin_rash</td>\n",
       "      <td>Acne vulgaris is the formation of comedones, p...</td>\n",
       "      <td>3.0</td>\n",
       "    </tr>\n",
       "    <tr>\n",
       "      <th>7</th>\n",
       "      <td>acne</td>\n",
       "      <td>pus_filled_pimples</td>\n",
       "      <td>Acne vulgaris is the formation of comedones, p...</td>\n",
       "      <td>2.0</td>\n",
       "    </tr>\n",
       "    <tr>\n",
       "      <th>8</th>\n",
       "      <td>acne</td>\n",
       "      <td>blackheads</td>\n",
       "      <td>Acne vulgaris is the formation of comedones, p...</td>\n",
       "      <td>2.0</td>\n",
       "    </tr>\n",
       "    <tr>\n",
       "      <th>9</th>\n",
       "      <td>acne</td>\n",
       "      <td>scurring</td>\n",
       "      <td>Acne vulgaris is the formation of comedones, p...</td>\n",
       "      <td>2.0</td>\n",
       "    </tr>\n",
       "  </tbody>\n",
       "</table>\n",
       "</div>"
      ],
      "text/plain": [
       "                                   disease             symptom  \\\n",
       "0  (vertigo) paroymsal  positional vertigo            vomiting   \n",
       "1  (vertigo) paroymsal  positional vertigo            headache   \n",
       "2  (vertigo) paroymsal  positional vertigo              nausea   \n",
       "3  (vertigo) paroymsal  positional vertigo  spinning_movements   \n",
       "4  (vertigo) paroymsal  positional vertigo     loss_of_balance   \n",
       "5  (vertigo) paroymsal  positional vertigo        unsteadiness   \n",
       "6                                     acne           skin_rash   \n",
       "7                                     acne  pus_filled_pimples   \n",
       "8                                     acne          blackheads   \n",
       "9                                     acne            scurring   \n",
       "\n",
       "                                         description  weight  \n",
       "0  Benign paroxysmal positional vertigo (BPPV) is...     5.0  \n",
       "1  Benign paroxysmal positional vertigo (BPPV) is...     3.0  \n",
       "2  Benign paroxysmal positional vertigo (BPPV) is...     5.0  \n",
       "3  Benign paroxysmal positional vertigo (BPPV) is...     6.0  \n",
       "4  Benign paroxysmal positional vertigo (BPPV) is...     4.0  \n",
       "5  Benign paroxysmal positional vertigo (BPPV) is...     4.0  \n",
       "6  Acne vulgaris is the formation of comedones, p...     3.0  \n",
       "7  Acne vulgaris is the formation of comedones, p...     2.0  \n",
       "8  Acne vulgaris is the formation of comedones, p...     2.0  \n",
       "9  Acne vulgaris is the formation of comedones, p...     2.0  "
      ]
     },
     "execution_count": 739,
     "metadata": {},
     "output_type": "execute_result"
    }
   ],
   "source": [
    "preprocessed_symptoms_df.head(10)"
   ]
  },
  {
   "cell_type": "code",
   "execution_count": 740,
   "metadata": {},
   "outputs": [],
   "source": [
    "# Step 6: Add symptom precautions\n",
    "preprocessed_symptoms_df = preprocessed_symptoms_df.merge(\n",
    "    disease_precaution_list, on=\"disease\", how=\"left\"\n",
    ")"
   ]
  },
  {
   "cell_type": "code",
   "execution_count": 741,
   "metadata": {},
   "outputs": [
    {
     "name": "stdout",
     "output_type": "stream",
     "text": [
      "Combined dataset saved as 'preprocessed_symptom_dataset.csv'\n"
     ]
    }
   ],
   "source": [
    "# Step 7: Save the cleaned and combined dataset\n",
    "preprocessed_symptoms_df.to_csv(\"../data/preprocessed_symptom_dataset.csv\", index=False)\n",
    "\n",
    "print(\"Combined dataset saved as 'preprocessed_symptom_dataset.csv'\")"
   ]
  }
 ],
 "metadata": {
  "kernelspec": {
   "display_name": ".venv",
   "language": "python",
   "name": "python3"
  },
  "language_info": {
   "codemirror_mode": {
    "name": "ipython",
    "version": 3
   },
   "file_extension": ".py",
   "mimetype": "text/x-python",
   "name": "python",
   "nbconvert_exporter": "python",
   "pygments_lexer": "ipython3",
   "version": "3.11.7"
  }
 },
 "nbformat": 4,
 "nbformat_minor": 2
}
