{
 "cells": [
  {
   "cell_type": "code",
   "execution_count": 2,
   "metadata": {},
   "outputs": [],
   "source": [
    "import pinecone\n",
    "import pandas as pd\n",
    "import os\n",
    "from sentence_transformers import SentenceTransformer\n",
    "from pinecone import Pinecone, ServerlessSpec\n",
    "from dotenv import load_dotenv, find_dotenv"
   ]
  },
  {
   "cell_type": "code",
   "execution_count": 3,
   "metadata": {},
   "outputs": [],
   "source": [
    "%load_ext dotenv\n",
    "%dotenv"
   ]
  },
  {
   "cell_type": "code",
   "execution_count": 4,
   "metadata": {},
   "outputs": [
    {
     "data": {
      "text/plain": [
       "True"
      ]
     },
     "execution_count": 4,
     "metadata": {},
     "output_type": "execute_result"
    }
   ],
   "source": [
    "load_dotenv(find_dotenv(), override = True)"
   ]
  },
  {
   "cell_type": "code",
   "execution_count": 5,
   "metadata": {},
   "outputs": [],
   "source": [
    "pc = Pinecone(api_key = os.environ.get(\"PINECONE_API_KEY\"), environment = os.environ.get(\"PINECONE_ENV\"))"
   ]
  },
  {
   "cell_type": "code",
   "execution_count": null,
   "metadata": {},
   "outputs": [],
   "source": [
    "index_name = \"medical-symptoms-index\"\n",
    "dimension = 768\n",
    "metric = \"cosine\""
   ]
  },
  {
   "cell_type": "code",
   "execution_count": null,
   "metadata": {},
   "outputs": [],
   "source": [
    "if index_name in [index.name for index in pc.list_indexes()]:\n",
    "    pc.delete_index(index_name)\n",
    "    print(f\"{index_name} succesfully deleted.\")\n",
    "else:\n",
    "     print(f\"{index_name} not in index list.\")"
   ]
  },
  {
   "cell_type": "code",
   "execution_count": null,
   "metadata": {},
   "outputs": [],
   "source": [
    "pc.create_index(\n",
    "    name = index_name, \n",
    "    dimension = dimension, \n",
    "    metric = metric, \n",
    "    spec = ServerlessSpec(\n",
    "        cloud = \"aws\", \n",
    "        region = \"us-east-1\")\n",
    "    )"
   ]
  },
  {
   "cell_type": "code",
   "execution_count": null,
   "metadata": {},
   "outputs": [],
   "source": [
    "medical_symptoms_index = pc.Index(index_name)"
   ]
  },
  {
   "cell_type": "code",
   "execution_count": null,
   "metadata": {},
   "outputs": [],
   "source": [
    "# Load symptom embeddings\n",
    "symptom_df = pd.read_pickle('../embeddings/symptom_embeddings.pkl')"
   ]
  },
  {
   "cell_type": "code",
   "execution_count": null,
   "metadata": {},
   "outputs": [],
   "source": [
    "def upsert_to_pinecone(medical_symptoms_index, symptom_df):\n",
    "    try:\n",
    "        # Prepare vectors for upsert\n",
    "        vectors_to_upsert = [\n",
    "            (row[\"unique_id\"], row[\"embedding\"].tolist(), {\n",
    "                \"disease\": row['disease'],\n",
    "                \"symptom\": row['symptom'],\n",
    "                \"precautions\": row['precautions'],  # Ensure precautions are included here\n",
    "                \"metadata\": row['metadata'],\n",
    "                \"weight\": row['weight']\n",
    "            })\n",
    "            for index, row in symptom_df.iterrows()\n",
    "        ]\n",
    "        \n",
    "        # Perform upsert operation\n",
    "        medical_symptoms_index.upsert(vectors=vectors_to_upsert)\n",
    "        print(\"Data successfully upserted to Pinecone index.\")\n",
    "    \n",
    "    except KeyError as e:\n",
    "        print(f\"KeyError: Missing expected column in symptom_df: {e}\")\n",
    "    except AttributeError as e:\n",
    "        print(f\"AttributeError: Issue with symptom_df format or content: {e}\")\n",
    "    except ValueError as e:\n",
    "        print(f\"ValueError: Problem with data in symptom_df: {e}\")\n",
    "    except Exception as e:\n",
    "        print(f\"An unexpected error occurred: {e}\")\n"
   ]
  },
  {
   "cell_type": "code",
   "execution_count": null,
   "metadata": {},
   "outputs": [],
   "source": [
    "upsert_to_pinecone(medical_symptoms_index, symptom_df)"
   ]
  },
  {
   "cell_type": "code",
   "execution_count": null,
   "metadata": {},
   "outputs": [],
   "source": [
    "# Initialize the model for querying\n",
    "model = SentenceTransformer('multi-qa-distilbert-cos-v1')"
   ]
  },
  {
   "cell_type": "code",
   "execution_count": null,
   "metadata": {},
   "outputs": [],
   "source": [
    "# Query Pinecone Function\n",
    "def query_pinecone(query, top_k=10):\n",
    "    \"\"\"\n",
    "    Query Pinecone index using an input query.\n",
    "    \n",
    "    Args:\n",
    "        query (str): The query string (e.g., symptom or disease name).\n",
    "        top_k (int): Number of top results to retrieve.\n",
    "        \n",
    "    Returns:\n",
    "        dict: Pinecone query results including metadata.\n",
    "    \"\"\"\n",
    "    try:\n",
    "        # Generate query embedding\n",
    "        query_embedding = model.encode(query, show_progress_bar=False).tolist()\n",
    "        \n",
    "        # Query Pinecone\n",
    "        results = medical_symptoms_index.query(vector=query_embedding, top_k=top_k, include_metadata=True)\n",
    "        return results\n",
    "    except Exception as e:\n",
    "        print(f\"Error querying Pinecone: {e}\")\n",
    "        return None\n"
   ]
  }
 ],
 "metadata": {
  "kernelspec": {
   "display_name": ".venv",
   "language": "python",
   "name": "python3"
  },
  "language_info": {
   "codemirror_mode": {
    "name": "ipython",
    "version": 3
   },
   "file_extension": ".py",
   "mimetype": "text/x-python",
   "name": "python",
   "nbconvert_exporter": "python",
   "pygments_lexer": "ipython3",
   "version": "3.11.7"
  }
 },
 "nbformat": 4,
 "nbformat_minor": 2
}
